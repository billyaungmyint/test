import numpy as np
from sklearn.linear_model import LinearRegression
from sklearn.metrics import r2_score
import matplotlib.pyplot as plt

def perform_linear_regression():
    # Sample Data
    X = np.array([[1], [2], [3], [4], [5], [6], [7], [8]])
    y = np.array([2, 3, 5, 4, 6, 8, 7, 9])

    # Create and train the model
    model = LinearRegression()
    model.fit(X, y)

    # Get model coefficients
    slope = model.coef_[0]
    intercept = model.intercept_

    # Make a prediction
    new_x = np.array([[9]])
    prediction = model.predict(new_x)[0]

    # Test the model
    y_pred = model.predict(X)
    r2 = r2_score(y, y_pred)

    # Plot the results
    plt.scatter(X, y, color='blue', label='Data Points')
    plt.plot(X, y_pred, color='red', linewidth=2, label='Regression Line')
    plt.title('Simple Linear Regression')
    plt.xlabel('X')
    plt.ylabel('y')
    plt.legend()
    plt.savefig('regression_plot.png')
    plt.close()

    return slope, intercept, prediction, r2

if __name__ == '__main__':
    slope, intercept, prediction, r2 = perform_linear_regression()
    print(f"Slope: {slope}")
    print(f"Intercept: {intercept}")
    print(f"Prediction for X=9: {prediction}")
    print(f"R-squared: {r2}")
    print("Plot saved to regression_plot.png")
